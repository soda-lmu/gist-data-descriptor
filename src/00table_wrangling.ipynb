{
 "cells": [
  {
   "cell_type": "code",
   "execution_count": 1,
   "id": "026e3bac",
   "metadata": {},
   "outputs": [
    {
     "name": "stdout",
     "output_type": "stream",
     "text": [
      "Collecting pandas\n",
      "  Using cached pandas-2.2.2-cp311-cp311-macosx_11_0_arm64.whl.metadata (19 kB)\n",
      "Collecting openpyxl\n",
      "  Using cached openpyxl-3.1.5-py2.py3-none-any.whl.metadata (2.5 kB)\n",
      "Collecting numpy>=1.23.2 (from pandas)\n",
      "  Using cached numpy-2.1.1-cp311-cp311-macosx_14_0_arm64.whl.metadata (60 kB)\n",
      "Requirement already satisfied: python-dateutil>=2.8.2 in /Users/annasteinberg/Library/Python/3.11/lib/python/site-packages (from pandas) (2.9.0.post0)\n",
      "Collecting pytz>=2020.1 (from pandas)\n",
      "  Using cached pytz-2024.2-py2.py3-none-any.whl.metadata (22 kB)\n",
      "Collecting tzdata>=2022.7 (from pandas)\n",
      "  Using cached tzdata-2024.1-py2.py3-none-any.whl.metadata (1.4 kB)\n",
      "Collecting et-xmlfile (from openpyxl)\n",
      "  Using cached et_xmlfile-1.1.0-py3-none-any.whl.metadata (1.8 kB)\n",
      "Requirement already satisfied: six>=1.5 in /Users/annasteinberg/Library/Python/3.11/lib/python/site-packages (from python-dateutil>=2.8.2->pandas) (1.16.0)\n",
      "Using cached pandas-2.2.2-cp311-cp311-macosx_11_0_arm64.whl (11.3 MB)\n",
      "Using cached openpyxl-3.1.5-py2.py3-none-any.whl (250 kB)\n",
      "Downloading numpy-2.1.1-cp311-cp311-macosx_14_0_arm64.whl (5.4 MB)\n",
      "\u001b[2K   \u001b[90m━━━━━━━━━━━━━━━━━━━━━━━━━━━━━━━━━━━━━━━━\u001b[0m \u001b[32m5.4/5.4 MB\u001b[0m \u001b[31m21.0 MB/s\u001b[0m eta \u001b[36m0:00:00\u001b[0ma \u001b[36m0:00:01\u001b[0m\n",
      "\u001b[?25hUsing cached pytz-2024.2-py2.py3-none-any.whl (508 kB)\n",
      "Using cached tzdata-2024.1-py2.py3-none-any.whl (345 kB)\n",
      "Using cached et_xmlfile-1.1.0-py3-none-any.whl (4.7 kB)\n",
      "Installing collected packages: pytz, tzdata, numpy, et-xmlfile, pandas, openpyxl\n",
      "Successfully installed et-xmlfile-1.1.0 numpy-2.1.1 openpyxl-3.1.5 pandas-2.2.2 pytz-2024.2 tzdata-2024.1\n"
     ]
    }
   ],
   "source": [
    "import sys\n",
    "!{sys.executable} -m pip install pandas openpyxl"
   ]
  },
  {
   "cell_type": "code",
   "execution_count": 2,
   "id": "7e60190b4a1b1505",
   "metadata": {
    "ExecuteTime": {
     "end_time": "2024-08-12T11:36:46.972470600Z",
     "start_time": "2024-08-12T11:36:46.952444200Z"
    },
    "collapsed": false
   },
   "outputs": [],
   "source": [
    "import os\n",
    "import shutil\n",
    "import pandas as pd"
   ]
  },
  {
   "cell_type": "code",
   "execution_count": 3,
   "id": "35e8de3c521baf27",
   "metadata": {
    "ExecuteTime": {
     "end_time": "2024-08-12T11:39:09.394882700Z",
     "start_time": "2024-08-12T11:39:09.379330300Z"
    },
    "collapsed": false
   },
   "outputs": [
    {
     "name": "stdout",
     "output_type": "stream",
     "text": [
      "All files have been moved successfully.\n"
     ]
    }
   ],
   "source": [
    "\n",
    "def flatten_directories(main_folder1, main_folder2, target_folder):\n",
    "    # Create the target directory if it doesn't exist\n",
    "    if not os.path.exists(target_folder):\n",
    "        os.makedirs(target_folder)\n",
    "    \n",
    "    def move_files_from_folder(folder):\n",
    "        for subdir, _, files in os.walk(folder):\n",
    "            for file in files:\n",
    "                # Construct full file path\n",
    "                file_path = os.path.join(subdir, file)\n",
    "                \n",
    "                # Construct the target file path\n",
    "                target_file_path = os.path.join(target_folder, file)\n",
    "                \n",
    "                # Handle file name conflicts\n",
    "                if os.path.exists(target_file_path):\n",
    "                    base, extension = os.path.splitext(file)\n",
    "                    counter = 1\n",
    "                    new_file_name = f\"{base}_{counter}{extension}\"\n",
    "                    new_target_file_path = os.path.join(target_folder, new_file_name)\n",
    "                    \n",
    "                    while os.path.exists(new_target_file_path):\n",
    "                        counter += 1\n",
    "                        new_file_name = f\"{base}_{counter}{extension}\"\n",
    "                        new_target_file_path = os.path.join(target_folder, new_file_name)\n",
    "                    \n",
    "                    target_file_path = new_target_file_path\n",
    "                \n",
    "                # Move the file to the target directory\n",
    "                shutil.move(file_path, target_file_path)\n",
    "    \n",
    "    # Move files from both main folders\n",
    "    move_files_from_folder(main_folder1)\n",
    "    move_files_from_folder(main_folder2)\n",
    "    \n",
    "    print(\"All files have been moved successfully.\")\n",
    "\n",
    "# Example usage\n",
    "main_folder1 = '../data/raw/batch1'\n",
    "main_folder2 = '../data/raw/batch2'\n",
    "target_folder = '../data/raw/flat'\n",
    "\n",
    "flatten_directories(main_folder1, main_folder2, target_folder)\n",
    "\n"
   ]
  },
  {
   "cell_type": "code",
   "execution_count": 4,
   "id": "8451556aba9a93d4",
   "metadata": {
    "ExecuteTime": {
     "end_time": "2024-08-12T11:39:54.809537Z",
     "start_time": "2024-08-12T11:39:10.877425Z"
    },
    "collapsed": false
   },
   "outputs": [],
   "source": [
    "def process_excel_files(folder_path, output_file_name):\n",
    "    # List to store individual DataFrames\n",
    "    all_dataframes = []\n",
    "\n",
    "    # Construct the full path for the 'flat' folder containing the raw data\n",
    "    folder_path_to_raw_data = os.path.join(folder_path, 'raw/flat')\n",
    "\n",
    "    # Loop through all files in the folder\n",
    "    for filename in os.listdir(folder_path_to_raw_data):\n",
    "        # Ignore hidden files such as .DS_Store in MacOS\n",
    "        if not filename.startswith('.'): \n",
    "            file_path = os.path.join(folder_path_to_raw_data, filename)\n",
    "\n",
    "            # Load the metadata rows\n",
    "            metadata_df = pd.read_excel(file_path, header=None, nrows=8)\n",
    "            metadata_df = metadata_df[[0, 3]]\n",
    "            new_column_names = metadata_df.iloc[:, 0].tolist()\n",
    "            new_column_values = metadata_df.iloc[:, 1].tolist()\n",
    "\n",
    "            # Load the main data (assuming the data starts after the metadata rows)\n",
    "            data_df = pd.read_excel(file_path, skiprows=8)\n",
    "            \n",
    "            # Add new columns to the dataframe\n",
    "            for i, column_name in enumerate(new_column_names):\n",
    "                data_df[column_name] = new_column_values[i]\n",
    "\n",
    "            # Remove rows without a row ID (assuming 'ID' is the first column after the header)\n",
    "            data_df = data_df.dropna(subset=[data_df.columns[0]])\n",
    "\n",
    "            # Append the processed DataFrame to the list\n",
    "            all_dataframes.append(data_df)\n",
    "\n",
    "    # Concatenate all the DataFrames in the list\n",
    "    appended_df = pd.concat(all_dataframes, ignore_index=True)\n",
    "\n",
    "    # Determine the parent directory of the specified folder\n",
    "    parent_dir = os.path.abspath(os.path.join(folder_path, 'processed'))\n",
    "    \n",
    "    # Construct the full path for the output file in the parent directory\n",
    "    output_file_path = os.path.join(parent_dir, output_file_name)\n",
    "\n",
    "    # Save the concatenated DataFrame to an Excel file in the parent directory\n",
    "    appended_df.to_excel(output_file_path, index=False)\n",
    "\n",
    "# Example usage\n",
    "folder_path = '../data'\n",
    "output_file_name = 'appended_data.xlsx'\n",
    "process_excel_files(folder_path, output_file_name)\n"
   ]
  }
 ],
 "metadata": {
  "kernelspec": {
   "display_name": "Python 3",
   "language": "python",
   "name": "python3"
  },
  "language_info": {
   "codemirror_mode": {
    "name": "ipython",
    "version": 3
   },
   "file_extension": ".py",
   "mimetype": "text/x-python",
   "name": "python",
   "nbconvert_exporter": "python",
   "pygments_lexer": "ipython3",
   "version": "3.11.10"
  }
 },
 "nbformat": 4,
 "nbformat_minor": 5
}
